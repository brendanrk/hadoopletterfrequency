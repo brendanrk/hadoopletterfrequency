{
 "cells": [
  {
   "cell_type": "markdown",
   "id": "a34689b4",
   "metadata": {},
   "source": [
    "# Explanation of the steps performed for loading the data sets into HDFS."
   ]
  },
  {
   "cell_type": "markdown",
   "id": "0e5d4a2b",
   "metadata": {},
   "source": [
    "The first step was to download the data required from the https://www.gutenberg.org/browse/languages/ website. This step was implemented in a python scrapper script as seen below.  Four langauages were picked, those were Spanish, German, Italian and French. The script will download less than 50 books for each language, althought this threshold could be higher if needed. Four directory are created for the four languages, also some sanity testing, the data set is ready for Hadoop. "
   ]
  },
  {
   "cell_type": "code",
   "execution_count": null,
   "id": "2c17ec42",
   "metadata": {
    "ExecuteTime": {
     "end_time": "2022-02-25T09:53:28.631426Z",
     "start_time": "2022-02-25T09:53:28.623882Z"
    }
   },
   "outputs": [],
   "source": [
    "import requests\n",
    "from bs4 import BeautifulSoup\n",
    "import os\n",
    "from tqdm import tqdm\n",
    "\n",
    "def download_file(url, folder):\n",
    "    local_filename = url.split('/')[-1][:-6]\n",
    "    with requests.get(url, stream=True) as r:\n",
    "        r.raise_for_status()\n",
    "        print(\"saving\", folder + \"/\" + local_filename)\n",
    "        with open(folder + \"/\" + local_filename, 'wb') as f:\n",
    "            for chunk in r.iter_content(chunk_size=None):\n",
    "                # If you have chunk encoded response uncomment if\n",
    "                # and set chunk_size parameter to None.\n",
    "                if chunk:\n",
    "                    f.write(chunk)\n",
    "    return local_filename\n",
    "\n",
    "\n",
    "languages = [\"es\", \"de\", \"it\", \"fr\"]\n",
    "\n",
    "for language in languages:\n",
    "    os.system(\"mkdir \" + language)\n",
    "    url = 'https://www.gutenberg.org/browse/languages/' + language\n",
    "\n",
    "    # Connect to the URL\n",
    "    response = requests.get(url)\n",
    "\n",
    "    # Parse HTML and save to BeautifulSoup object¶\n",
    "    soup = BeautifulSoup(response.text, \"html.parser\")\n",
    "\n",
    "    end = False\n",
    "    count = 1\n",
    "    for one_a_tag in tqdm(soup.findAll('a')):  # 'a' tags are for links\n",
    "        if end:\n",
    "            break\n",
    "        if 'href' in one_a_tag.attrs:\n",
    "            if one_a_tag.attrs['href'].startswith(\"/ebooks\"):\n",
    "                print(one_a_tag.attrs['href'])\n",
    "                link_txt = 'https://www.gutenberg.org' + one_a_tag.attrs['href'] + \".txt.utf-8\"\n",
    "                print(link_txt)\n",
    "                response = requests.get(link_txt)\n",
    "                if response.status_code != 200:\n",
    "                    print(\"NOT A LINK\")\n",
    "                else:\n",
    "                    link = 'https://www.gutenberg.org' + one_a_tag.attrs['href']\n",
    "                    r = requests.get(link)\n",
    "                    trs = BeautifulSoup(r.text, \"html.parser\").findAll('tr')\n",
    "                    count_langs = 0\n",
    "                    for tr in trs: # make sure we don't have a book with multiple languuages\n",
    "                        if 'itemprop' in tr.attrs:\n",
    "                            if tr.attrs['itemprop'] == \"inLanguage\":\n",
    "                                count_langs += 1\n",
    "                    print(\"count_langs:\", count_langs)\n",
    "                    if count_langs < 2:\n",
    "                        count += 1\n",
    "                        print(\"Total (so far):\", count)\n",
    "                        if count > 50:\n",
    "                            end = True\n",
    "                        print(download_file(link_txt, language))\n",
    "    print(\"Total:\", count)\n"
   ]
  },
  {
   "cell_type": "markdown",
   "id": "14bc9c52",
   "metadata": {},
   "source": [
    "## Create Hadoop cluster container using Docker"
   ]
  },
  {
   "cell_type": "markdown",
   "id": "aa2995db",
   "metadata": {},
   "source": [
    "The next step is to get the data onto the Hadoop Distributed Filesystem. In order to build a hadoop one node cluster, I used Docker which allows for building OS level virtualized containers. The steps to complete this are given below:"
   ]
  },
  {
   "cell_type": "markdown",
   "id": "94acad21",
   "metadata": {},
   "source": [
    "1. Get the repository https://github.com/rancavil/hadoop-single-node-cluster\n",
    "2. build the docker image\n",
    "3. run it to get a container for the one node hadoop cluster and then make some minor modifcations to set up the web interfaces and to allow java code to be compiled, as seen below."
   ]
  },
  {
   "cell_type": "code",
   "execution_count": null,
   "id": "f2178936",
   "metadata": {},
   "outputs": [],
   "source": [
    "# based on idea from:\n",
    "https://medium.com/analytics-vidhya/hadoop-single-node-cluster-on-docker-e88c3d09a256 \n",
    "\n",
    "# which uses files from this github repo:\n",
    "https://github.com/rancavil/hadoop-single-node-cluster \n",
    "    \n",
    "docker build -t hadoop .\n",
    "docker run -it --name myhadoop -p 9864:9864 -p 9870:9870 -p 8088:8088 --hostname localhost hadoop\n",
    "docker exec -it myhadoop bash            \n",
    "    \n",
    "# build Docker image\n",
    "http://localhost:9864/ \n",
    "http://localhost:9870/ \n",
    "http://localhost:8088/ \n",
    "\n",
    "        \n",
    " \n",
    "# get lesson example data\n",
    "wget -q https://secureservercdn.net/160.153.137.210/umw.129.myftpupload.com/wp-content/uploads/2021/02/shakespeare.tar.gz && tar zxvf shakespeare.tar.gz  && rm shakespeare.tar.gz \n",
    "\n",
    "cat shakespeare/poems  | wc -l \n",
    "\n",
    "hdfs dfs -mkdir /user \n",
    "hdfs dfs -mkdir /user/hduser \n",
    "hdfs dfs -mkdir shakespeare  \n",
    "hadoop fs -put shakespeare shakespeare  \n",
    "hdfs dfs -ls \n",
    "hadoop fs -cat shakespeare/shakespeare/poems \n",
    "\n",
    " \n",
    "# setup with java class paths\n",
    "echo $CLASSPATH \n",
    "\n",
    "echo `hadoop classpath`  \n",
    "\n",
    "/home/hduser/hadoop-3.3.0/etc/hadoop:/home/hduser/hadoop-3.3.0/share/hadoop/common/lib/*:/home/hduser/hadoop-3.3.0/share/hadoop/common/*:/home/hduser/hadoop-3.3.0/share/hadoop/hdfs:/home/hduser/hadoop-3.3.0/share/hadoop/hdfs/lib/*:/home/hduser/hadoop-3.3.0/share/hadoop/hdfs/*:/home/hduser/hadoop-3.3.0/share/hadoop/mapreduce/*:/home/hduser/hadoop-3.3.0/share/hadoop/yarn:/home/hduser/hadoop-3.3.0/share/hadoop/yarn/lib/*:/home/hduser/hadoop-3.3.0/share/hadoop/yarn/* \n",
    "\n",
    "\n",
    "export CLASSPATH=`hadoop classpath`\n",
    "echo $CLASSPATH \n",
    "export JAVA_HOME=/usr/lib/jvm/java-1.8.0-openjdk-amd64 \n",
    "export PATH=${JAVA_HOME}/bin:${PATH} \n",
    "export HADOOP_CLASSPATH=${JAVA_HOME}/lib/tools.jar \n",
    "\n",
    "# to build:\n",
    "javac WordCount.java \n",
    "jar cvf WordCount.jar * \n",
    "\n",
    "\n",
    "# some changes to get the jobs history browser working:\n",
    "\n",
    "hduser@localhost:~$ cat /home/hduser/hadoop-3.3.0/etc/hadoop/mapred-site.xml \n",
    "<?xml version=\"1.0\"?> \n",
    "<?xml-stylesheet type=\"text/xsl\" href=\"configuration.xsl\"?> \n",
    "<!-- \n",
    "  Licensed under the Apache License, Version 2.0 (the \"License\"); \n",
    "  you may not use this file except in compliance with the License. \n",
    "  You may obtain a copy of the License at \n",
    "    http://www.apache.org/licenses/LICENSE-2.0 \n",
    "  Unless required by applicable law or agreed to in writing, software \n",
    "  distributed under the License is distributed on an \"AS IS\" BASIS, \n",
    "  WITHOUT WARRANTIES OR CONDITIONS OF ANY KIND, either express or implied. \n",
    "  See the License for the specific language governing permissions and \n",
    "  limitations under the License. See accompanying LICENSE file. \n",
    "--> \n",
    "<!-- Put site-specific property overrides in this file. --> \n",
    "<configuration> \n",
    "<property> \n",
    "  <name> mapreduce.framework.name</name> \n",
    "  <value>yarn</value> \n",
    "</property> \n",
    "</configuration> \n",
    "\n",
    "# and also:\n",
    "\n",
    "$ cat /home/hduser/hadoop-3.3.0/etc/hadoop/hdfs-site.xml\n",
    "<?xml version=\"1.0\" encoding=\"UTF-8\"?>\n",
    "<?xml-stylesheet type=\"text/xsl\" href=\"configuration.xsl\"?>\n",
    "<!--\n",
    "  Licensed under the Apache License, Version 2.0 (the \"License\");\n",
    "  you may not use this file except in compliance with the License.\n",
    "  You may obtain a copy of the License at\n",
    "\n",
    "    http://www.apache.org/licenses/LICENSE-2.0\n",
    "\n",
    "  Unless required by applicable law or agreed to in writing, software\n",
    "  distributed under the License is distributed on an \"AS IS\" BASIS,\n",
    "  WITHOUT WARRANTIES OR CONDITIONS OF ANY KIND, either express or implied.\n",
    "  See the License for the specific language governing permissions and\n",
    "  limitations under the License. See accompanying LICENSE file.\n",
    "-->\n",
    "\n",
    "<!-- Put site-specific property overrides in this file. -->\n",
    "\n",
    "<configuration>\n",
    "    <property>\n",
    "        <name>dfs.replication</name>\n",
    "        <value>1</value>\n",
    "    </property>\n",
    "\n",
    "    <property>\n",
    "        <name>dfs.permissions</name>\n",
    "        <value>false</value>\n",
    "</property>\n",
    "<property>\n",
    "    <name>dfs.webhdfs.enabled</name>\n",
    "    <value>true</value>\n",
    "</property>\n",
    "</configuration>\n",
    "\n",
    "hadoop dfsadmin -safemode leave \n",
    "mr-jobhistory-daemon.sh start historyserver\n",
    " \n",
    "http://172.17.0.2:19888/jobhistory/app "
   ]
  },
  {
   "cell_type": "markdown",
   "id": "ec0a71de",
   "metadata": {},
   "source": [
    "The next step is copy the dataset to the hadoop file system, this was done by firstly copying the files to the container which is running hadoop and then using \"put\" to copy the local files to HDFS."
   ]
  },
  {
   "cell_type": "code",
   "execution_count": null,
   "id": "b6207eeb",
   "metadata": {},
   "outputs": [],
   "source": [
    "hduser@localhost:~$ hdfs dfs -ls gutenberg/\n",
    "Found 4 items\n",
    "drwxr-xr-x   - hduser supergroup          0 2022-02-20 23:16 gutenberg/de\n",
    "drwxr-xr-x   - hduser supergroup          0 2022-02-18 20:03 gutenberg/es\n",
    "drwxr-xr-x   - hduser supergroup          0 2022-02-18 20:03 gutenberg/fr\n",
    "drwxr-xr-x   - hduser supergroup          0 2022-02-18 20:03 gutenberg/it"
   ]
  },
  {
   "cell_type": "markdown",
   "id": "2046e52d",
   "metadata": {
    "ExecuteTime": {
     "end_time": "2022-02-26T13:10:59.991287Z",
     "start_time": "2022-02-26T13:10:59.846627Z"
    }
   },
   "source": [
    "# Design"
   ]
  },
  {
   "attachments": {},
   "cell_type": "markdown",
   "id": "ead4095c",
   "metadata": {},
   "source": [
    "![Whiteboard.png](Whiteboard.png)"
   ]
  },
  {
   "cell_type": "markdown",
   "id": "913594a7",
   "metadata": {},
   "source": [
    "The figure above shows the architecture of the Hadoop process to count the frequency of letter in the books provided by the gutenburg online library. The process uses two \"ControlledJob\" objects to execute two MapReduce jobs. These two jobs are named \"Job0\" and \"Job1\".\n",
    "\n",
    "In \"Job0\", the input data is firstly ingested by the 1st \"ControlledJob\" which takes the input files and sets up 196 \"Mapper\" jobs to remove the non letter characters and pass the results to another chained \"Mapper\" which adds the Language as a key from the directory path, for example \"es\", \"it\" etc. \n",
    "\n",
    "The output from these 196 jobs is input to a single Reducer job where all lines are sorted by key (which is the language). This output is then written to disk to a temporary HDFS directory. \n",
    "\n",
    "In \"Job1\", the data is read from the temporary HDFS file and ingested by the \"Job1Mapper\", this \"Mapper\" is designed to break up the lines into letters and to create counters, the counters will count the total letters seen for each language. This Mapper will also output a value of \"1\" for each letter seen, so that the combiner and reducer can merge them together and count the number of each letter for each language. \n",
    "\n",
    "In the next step in \"Job1\", the data streams are again partitioned and sorted for the \"Reducer\". The \"Reducer\" will then count the total counts for each letter and divide that number by the total number of letters seen. This total number of letters seen is a counter which was created in the \"Mapper\". \n",
    "\n",
    "The final output from the process is then 4 individual files, each of which is a seperate tab separated file which contains one language, all the letters plus the frequency. The following is an exmaple of the \"it\" output:\n",
    "\n",
    "An example of the output of each sub-stage(i.e. mapper and reducer function) is included in the code."
   ]
  },
  {
   "cell_type": "code",
   "execution_count": null,
   "id": "02ae354e",
   "metadata": {},
   "outputs": [],
   "source": [
    "it\tA\t0.002279\n",
    "it\tB\t0.000830\n",
    "it\tC\t0.002045\n",
    "it\tD\t0.001101\n",
    "it\tE\t0.001521\n",
    "it\tF\t0.000810\n",
    "it\tG\t0.001138\n",
    "it\tH\t0.000182\n",
    "it\tI\t0.002703\n",
    "it\tJ\t0.000072"
   ]
  },
  {
   "cell_type": "markdown",
   "id": "8f3851b9",
   "metadata": {},
   "source": [
    "The counters for each partition are show below:"
   ]
  },
  {
   "cell_type": "markdown",
   "id": "9f18c611",
   "metadata": {
    "ExecuteTime": {
     "end_time": "2022-02-27T20:14:08.415162Z",
     "start_time": "2022-02-27T20:14:08.269804Z"
    }
   },
   "source": [
    "![counters.png](counters.png)"
   ]
  },
  {
   "cell_type": "markdown",
   "id": "b5615462",
   "metadata": {},
   "source": [
    "I used some advanced featues of Hadoop in order to complete this process, The following is a short list of those features.\n",
    "\n"
   ]
  },
  {
   "cell_type": "markdown",
   "id": "76d47726",
   "metadata": {},
   "source": [
    "## JobControl\n",
    "\n",
    "Used a \"JobControl\" class to allow for \"ControlledJob\" jobs to be set up and allow for one jobs to be dependent on another. This feature also allow mutliple jobs to be run side by side, however this was not useful for this task. "
   ]
  },
  {
   "cell_type": "markdown",
   "id": "d0aafdec",
   "metadata": {},
   "source": [
    "## ChainMapper\n",
    "\n",
    "Used a \"ChainMapper\" in Job0 to divide up the two \"Mapper\" functions, the first \"Mapper\" is removing characters from the lines and second is adding the language key to the \"ChainMapper\" output. "
   ]
  },
  {
   "cell_type": "markdown",
   "id": "0182f137",
   "metadata": {},
   "source": [
    "## Partitioner\n",
    "\n",
    "A \"Partitioner\" is used to split the stream of data into the individual languages so that the following reduce functions can work in parellel to produce the output in a shorter time. "
   ]
  },
  {
   "cell_type": "markdown",
   "id": "39d40460",
   "metadata": {},
   "source": [
    "The process was kicked off by a bash script. This script clears up the previous output files, compiles the java files and produces a jar so that the hadoop job can be executed on the nodes. Below is the content of this script:"
   ]
  },
  {
   "cell_type": "code",
   "execution_count": null,
   "id": "02ee6ee9",
   "metadata": {},
   "outputs": [],
   "source": [
    "set -x\n",
    "set -e\n",
    "\n",
    "hadoop fs -rm -r /user/hduser/myOutput  || true\n",
    "hadoop fs -rm -r /user/hduser/myOutput-LetterFrequency-tmp || true\n",
    "hadoop fs -rm -r /user/hduser/myOutput-LetterFrequency-tmp1 || true\n",
    "javac *java \n",
    "jar cvf wc.jar  *class\n",
    "rm *class\n",
    "hadoop jar wc.jar LetterFrequency gutenberg/* myOutput\n",
    "\n",
    "hdfs dfs -cat myOutput/part-r-00000 | head | grep fr || true\n",
    "hdfs dfs -cat myOutput/part-r-00001 | head | grep de || true\n",
    "hdfs dfs -cat myOutput/part-r-00002 | head | grep es || true\n",
    "hdfs dfs -cat myOutput/part-r-00003 | head | grep it || true"
   ]
  },
  {
   "cell_type": "markdown",
   "id": "8d9b9335",
   "metadata": {},
   "source": [
    "Runs to process all gutenburg books located on HDFS, take on average around 8 minutes, as shown in the index."
   ]
  },
  {
   "cell_type": "markdown",
   "id": "a248b7e2",
   "metadata": {},
   "source": [
    "# charts"
   ]
  },
  {
   "cell_type": "markdown",
   "id": "64ce739a",
   "metadata": {},
   "source": [
    "Using the output files from the MapReduce process, The following section shows how those output files are visualised aswell as a comparison with the value seen on https://en.wikipedia.org/wiki/Letter_frequency. "
   ]
  },
  {
   "cell_type": "code",
   "execution_count": 11,
   "id": "25913086",
   "metadata": {
    "ExecuteTime": {
     "end_time": "2022-02-27T19:04:27.212903Z",
     "start_time": "2022-02-27T19:04:14.785855Z"
    }
   },
   "outputs": [
    {
     "name": "stdout",
     "output_type": "stream",
     "text": [
      "['a', 'b', 'c', 'd', 'e', 'f', 'g', 'h', 'i', 'j', 'k', 'l', 'm', 'n', 'o', 'p', 'q', 'r', 's', 't', 'u', 'v', 'w', 'x', 'y', 'z', 'à', 'â', 'á', 'å', 'ä', 'ã', 'ą', 'æ', 'œ', 'ç', 'ĉ', 'ć', 'č', 'ď', 'ð', 'è', 'é', 'ê', 'ë', 'ę', 'ě', 'ĝ', 'ğ', 'ĥ', 'î', 'ì', 'í', 'ï', 'ı', 'ĵ', 'ł', 'ľ', 'ñ', 'ń', 'ň', 'ò', 'ö', 'ô', 'ó', 'õ', 'ø', 'ř', 'ŝ', 'ş', 'ś', 'š', 'ß', 'ť', 'þ', 'ù', 'ú', 'û', 'ŭ', 'ü', 'ů', 'ý', 'ź', 'ż', 'ž']\n"
     ]
    },
    {
     "data": {
      "image/png": "[encoded data removed]",
      "text/plain": [
       "<Figure size 1080x720 with 1 Axes>"
      ]
     },
     "metadata": {
      "needs_background": "light"
     },
     "output_type": "display_data"
    },
    {
     "data": {
      "image/png": "[encoded data removed]",
      "text/plain": [
       "<Figure size 1080x720 with 1 Axes>"
      ]
     },
     "metadata": {
      "needs_background": "light"
     },
     "output_type": "display_data"
    },
    {
     "data": {
      "image/png": "[encoded data removed]",
      "text/plain": [
       "<Figure size 1080x720 with 1 Axes>"
      ]
     },
     "metadata": {
      "needs_background": "light"
     },
     "output_type": "display_data"
    },
    {
     "data": {
      "image/png": "[encoded data removed]",
      "text/plain": [
       "<Figure size 1080x720 with 1 Axes>"
      ]
     },
     "metadata": {
      "needs_background": "light"
     },
     "output_type": "display_data"
    },
    {
     "data": {
      "image/png": "[encoded data removed]",
      "text/plain": [
       "<Figure size 1080x720 with 1 Axes>"
      ]
     },
     "metadata": {
      "needs_background": "light"
     },
     "output_type": "display_data"
    },
    {
     "data": {
      "image/png": "[encoded data removed]",
      "text/plain": [
       "<Figure size 1080x720 with 1 Axes>"
      ]
     },
     "metadata": {
      "needs_background": "light"
     },
     "output_type": "display_data"
    },
    {
     "data": {
      "image/png": "[encoded data removed]",
      "text/plain": [
       "<Figure size 1080x720 with 1 Axes>"
      ]
     },
     "metadata": {
      "needs_background": "light"
     },
     "output_type": "display_data"
    },
    {
     "data": {
      "image/png": "[encoded data removed]",
      "text/plain": [
       "<Figure size 1080x720 with 1 Axes>"
      ]
     },
     "metadata": {
      "needs_background": "light"
     },
     "output_type": "display_data"
    }
   ],
   "source": [
    "#!/usr/bin/env python3\n",
    "# Libraries\n",
    "import pandas as pd\n",
    "import numpy as np\n",
    "\n",
    "import matplotlib.pyplot as plt\n",
    "import subprocess\n",
    "from io import StringIO\n",
    "import requests\n",
    "from bs4 import BeautifulSoup\n",
    "\n",
    "def get_wiki_data():\n",
    "    URL = \"https://en.wikipedia.org/wiki/Letter_frequency\"\n",
    "    \n",
    "    content = requests.get(URL).text\n",
    "    # print(res)\n",
    "    soup = BeautifulSoup(content, 'html.parser')\n",
    "    # tables = soup.findAll(\"table\", class_=\"wikitable sortable jquery-tablesorter\")\n",
    "    tables = soup.findAll(\"table\",{\"class\":\"wikitable sortable\"})\n",
    "    \n",
    "    for i, table in enumerate(tables):\n",
    "        headings = [th.get_text().strip() for th in table.find(\"tr\").find_all(\"th\")]     \n",
    "        if table.findParent(\"table\") is None:\n",
    "            datasets = []\n",
    "            for row in table.find_all(\"tr\")[1:]:\n",
    "                dataset = dict(zip(headings, (td.get_text().strip().replace(\"%\",\"\").replace(\"~\",\"\").replace(\")\",\"\").replace(\"(\",\"\") for td in row.find_all(\"td\"))))\n",
    "                datasets.append(dataset)\n",
    "    \n",
    "    df = pd.DataFrame(datasets)\n",
    "    df = df.astype({'French[21]':float, 'Spanish[23]':float, 'Italian[26]':float, 'German[22]':float})\n",
    "    df = df.filter(['Letter','French[21]', 'Spanish[23]', 'Italian[26]', 'German[22]'])\n",
    "    print(df['Letter'].tolist())\n",
    "    df.rename(columns={'Letter':'letter','French[21]': 'fr', 'Spanish[23]': 'es', 'Italian[26]': 'it', 'German[22]': 'de'}, inplace=True)\n",
    "    return df\n",
    "\n",
    "\n",
    "def retrieve_df(hf):\n",
    "    \"\"\"Get the data stored on HDFS at the arguments location\"\"\"\n",
    "    cmd = \"docker exec myhadoop hdfs dfs -cat myOutput/{}\".format(hf)\n",
    "    p = subprocess.Popen(cmd, stdout=subprocess.PIPE, shell=True)\n",
    "    out, err = p.communicate()\n",
    "    DATA = StringIO(out.decode())\n",
    "    df = pd.read_csv(DATA, sep=\"\\t\", names=[\"language\", \"letter\", \"percentage\"])\n",
    "    return df\n",
    "\n",
    "\n",
    "\n",
    "\n",
    "def show_chart(df):\n",
    "    \"\"\"Create a bar chart of percentage vs letter\"\"\"\n",
    "    fig = plt.figure(figsize=(15,10))\n",
    "\n",
    "    ax = fig.add_subplot(111)\n",
    "    ax.set_title(df[\"language\"].iloc[0], fontsize=20)\n",
    "    height = df[\"percentage\"]\n",
    "    bars = df[\"letter\"]\n",
    "    y_pos = np.arange(len(bars))\n",
    "    ax.bar(y_pos, height)\n",
    "    plt.xticks(y_pos, bars)\n",
    "    plt.xlabel(\"letter\")\n",
    "    plt.ylabel(\"percentage\")\n",
    "    plt.show()\n",
    "\n",
    "\n",
    "wikidf = get_wiki_data()\n",
    "hadoop_files = [\"part-r-00000\",\"part-r-00001\",\"part-r-00002\",\"part-r-00003\"]\n",
    "frames = []\n",
    "for hf in hadoop_files:\n",
    "    df = retrieve_df(hf)\n",
    "    show_chart(df)\n",
    "    frames.append(df)\n",
    "\n",
    "resultdf = pd.concat(frames)\n",
    "wikimeltdf = pd.melt(wikidf, id_vars=['letter'], value_vars=['fr','es','it','de'],\n",
    "                   var_name='language', value_name='percentage')\n",
    "\n",
    "allmergedf = wikimeltdf.merge(resultdf, on = ['letter','language'], how = 'left', suffixes=('_wiki', '_gutenburg'))\n",
    "alldf = pd.melt(allmergedf, id_vars=['letter','language'], value_vars=['percentage_wiki','percentage_gutenburg'],\n",
    "                   var_name='source', value_name='percentage')\n",
    "\n",
    "def source_chart(alldf, lang):\n",
    "    fig = plt.figure(figsize=(15,10))\n",
    "    ax = fig.add_subplot(111)\n",
    "    ax.set_title(lang, fontsize=20)\n",
    "    df = (alldf\n",
    "          .query('language == \"{}\"'.format(lang))\n",
    "          .query('percentage > 0.1')\n",
    "         )\n",
    "    df.pivot(\"letter\", \"source\", \"percentage\").plot(kind='bar', ax=ax)\n",
    "    plt.xlabel(\"letter\")\n",
    "    plt.ylabel(\"percentage\")\n",
    "    plt.show()\n",
    "\n",
    "source_chart(alldf, \"es\")\n",
    "source_chart(alldf, \"de\")\n",
    "source_chart(alldf, \"fr\")\n",
    "source_chart(alldf, \"de\")"
   ]
  },
  {
   "cell_type": "markdown",
   "id": "ce533b40",
   "metadata": {},
   "source": [
    "## Discussion\n",
    "\n",
    "The charts produced in the final sectrion show that the results from the MapReduce job do a good job at estimating the letter frequency for each language when compared to the results from https://en.wikipedia.org/wiki/Letter_frequency. \n",
    "Some noticiable differences are \"f\" in Spanish, \"c\" in French and \"h\" in French as seen below. Only 8 letters across the 4 languages show a difference of more than 1%. That's 8 out of 340 letters(2.3%).\n",
    "The result could be improved by increasing the number of books that are soruced from the gutenburg website which had a threshold of 50 at the beginning of this report.  "
   ]
  },
  {
   "cell_type": "code",
   "execution_count": 15,
   "id": "594e3a2b",
   "metadata": {
    "ExecuteTime": {
     "end_time": "2022-02-27T19:07:24.097047Z",
     "start_time": "2022-02-27T19:07:24.070604Z"
    }
   },
   "outputs": [
    {
     "data": {
      "text/html": [
       "<div>\n",
       "<style scoped>\n",
       "    .dataframe tbody tr th:only-of-type {\n",
       "        vertical-align: middle;\n",
       "    }\n",
       "\n",
       "    .dataframe tbody tr th {\n",
       "        vertical-align: top;\n",
       "    }\n",
       "\n",
       "    .dataframe thead th {\n",
       "        text-align: right;\n",
       "    }\n",
       "</style>\n",
       "<table border=\"1\" class=\"dataframe\">\n",
       "  <thead>\n",
       "    <tr style=\"text-align: right;\">\n",
       "      <th></th>\n",
       "      <th>language</th>\n",
       "      <th>percentage_wiki</th>\n",
       "      <th>percentage_gutenburg</th>\n",
       "      <th>difference</th>\n",
       "    </tr>\n",
       "    <tr>\n",
       "      <th>letter</th>\n",
       "      <th></th>\n",
       "      <th></th>\n",
       "      <th></th>\n",
       "      <th></th>\n",
       "    </tr>\n",
       "  </thead>\n",
       "  <tbody>\n",
       "    <tr>\n",
       "      <th>f</th>\n",
       "      <td>es</td>\n",
       "      <td>2.948</td>\n",
       "      <td>0.675</td>\n",
       "      <td>2.273</td>\n",
       "    </tr>\n",
       "    <tr>\n",
       "      <th>c</th>\n",
       "      <td>fr</td>\n",
       "      <td>1.001</td>\n",
       "      <td>2.995</td>\n",
       "      <td>1.994</td>\n",
       "    </tr>\n",
       "    <tr>\n",
       "      <th>h</th>\n",
       "      <td>fr</td>\n",
       "      <td>2.739</td>\n",
       "      <td>0.923</td>\n",
       "      <td>1.816</td>\n",
       "    </tr>\n",
       "    <tr>\n",
       "      <th>k</th>\n",
       "      <td>de</td>\n",
       "      <td>2.957</td>\n",
       "      <td>1.231</td>\n",
       "      <td>1.726</td>\n",
       "    </tr>\n",
       "    <tr>\n",
       "      <th>u</th>\n",
       "      <td>es</td>\n",
       "      <td>2.927</td>\n",
       "      <td>4.324</td>\n",
       "      <td>1.397</td>\n",
       "    </tr>\n",
       "    <tr>\n",
       "      <th>i</th>\n",
       "      <td>de</td>\n",
       "      <td>6.550</td>\n",
       "      <td>7.854</td>\n",
       "      <td>1.304</td>\n",
       "    </tr>\n",
       "    <tr>\n",
       "      <th>o</th>\n",
       "      <td>de</td>\n",
       "      <td>3.511</td>\n",
       "      <td>2.223</td>\n",
       "      <td>1.288</td>\n",
       "    </tr>\n",
       "    <tr>\n",
       "      <th>a</th>\n",
       "      <td>de</td>\n",
       "      <td>6.516</td>\n",
       "      <td>5.421</td>\n",
       "      <td>1.095</td>\n",
       "    </tr>\n",
       "    <tr>\n",
       "      <th>s</th>\n",
       "      <td>de</td>\n",
       "      <td>5.320</td>\n",
       "      <td>6.214</td>\n",
       "      <td>0.894</td>\n",
       "    </tr>\n",
       "    <tr>\n",
       "      <th>e</th>\n",
       "      <td>es</td>\n",
       "      <td>12.181</td>\n",
       "      <td>12.955</td>\n",
       "      <td>0.774</td>\n",
       "    </tr>\n",
       "  </tbody>\n",
       "</table>\n",
       "</div>"
      ],
      "text/plain": [
       "       language  percentage_wiki  percentage_gutenburg  difference\n",
       "letter                                                            \n",
       "f            es            2.948                 0.675       2.273\n",
       "c            fr            1.001                 2.995       1.994\n",
       "h            fr            2.739                 0.923       1.816\n",
       "k            de            2.957                 1.231       1.726\n",
       "u            es            2.927                 4.324       1.397\n",
       "i            de            6.550                 7.854       1.304\n",
       "o            de            3.511                 2.223       1.288\n",
       "a            de            6.516                 5.421       1.095\n",
       "s            de            5.320                 6.214       0.894\n",
       "e            es           12.181                12.955       0.774"
      ]
     },
     "execution_count": 15,
     "metadata": {},
     "output_type": "execute_result"
    }
   ],
   "source": [
    "allmergedf['difference'] = abs(allmergedf['percentage_wiki'] - allmergedf['percentage_gutenburg'])\n",
    "allmergedf.sort_values('difference', ascending=False).set_index('letter').head(10)"
   ]
  },
  {
   "cell_type": "markdown",
   "id": "bc1862f3",
   "metadata": {
    "ExecuteTime": {
     "end_time": "2022-02-27T20:15:35.947541Z",
     "start_time": "2022-02-27T20:15:35.944953Z"
    }
   },
   "source": [
    "# Appendix \n",
    "\n",
    "## output from MapReduce job (script run.sh included in attached zip)"
   ]
  },
  {
   "cell_type": "code",
   "execution_count": null,
   "id": "4a1099ae",
   "metadata": {},
   "outputs": [],
   "source": [
    "hduser@localhost:~/letterfrequency$ time bash run.sh \n",
    "+ set -e\n",
    "+ hadoop fs -rm -r /user/hduser/myOutput\n",
    "Deleted /user/hduser/myOutput\n",
    "+ hadoop fs -rm -r /user/hduser/myOutput-LetterFrequency-tmp\n",
    "Deleted /user/hduser/myOutput-LetterFrequency-tmp\n",
    "+ hadoop fs -rm -r /user/hduser/myOutput-LetterFrequency-tmp1\n",
    "rm: `/user/hduser/myOutput-LetterFrequency-tmp1': No such file or directory\n",
    "+ true\n",
    "+ javac -encoding UTF8 Job0AddLangMapper.java Job0Mapper.java Job0Partitioner.java Job1Combiner.java Job1Mapper.java Job1Partitioner.java Job1Reducer.java LetterFrequency.java TextPair.java\n",
    "+ jar cvf wc.jar Job0AddLangMapper.class Job0Mapper.class Job0Partitioner.class Job1Combiner.class 'Job1Mapper$Counters.class' Job1Mapper.class Job1Partitioner.class Job1Reducer.class LetterFrequency.class TextPair.class\n",
    "added manifest\n",
    "adding: Job0AddLangMapper.class(in = 2021) (out= 837)(deflated 58%)\n",
    "adding: Job0Mapper.class(in = 2429) (out= 1091)(deflated 55%)\n",
    "adding: Job0Partitioner.class(in = 1188) (out= 615)(deflated 48%)\n",
    "adding: Job1Combiner.class(in = 1406) (out= 675)(deflated 51%)\n",
    "adding: Job1Mapper$Counters.class(in = 1046) (out= 567)(deflated 45%)\n",
    "adding: Job1Mapper.class(in = 3440) (out= 1745)(deflated 49%)\n",
    "adding: Job1Partitioner.class(in = 1189) (out= 632)(deflated 46%)\n",
    "adding: Job1Reducer.class(in = 4407) (out= 1962)(deflated 55%)\n",
    "adding: LetterFrequency.class(in = 5122) (out= 2444)(deflated 52%)\n",
    "adding: TextPair.class(in = 2161) (out= 996)(deflated 53%)\n",
    "+ rm Job0AddLangMapper.class Job0Mapper.class Job0Partitioner.class Job1Combiner.class 'Job1Mapper$Counters.class' Job1Mapper.class Job1Partitioner.class Job1Reducer.class LetterFrequency.class TextPair.class\n",
    "+ hadoop jar wc.jar LetterFrequency 'gutenberg/*' myOutput\n",
    " In Driver now!\n",
    "intermediateTempDir: myOutput-LetterFrequency-tmp\n",
    "2022-02-27 15:21:28,202 INFO client.DefaultNoHARMFailoverProxyProvider: Connecting to ResourceManager at /0.0.0.0:8032\n",
    "2022-02-27 15:21:28,481 WARN mapreduce.JobResourceUploader: Hadoop command-line option parsing not performed. Implement the Tool interface and execute your application with ToolRunner to remedy this.\n",
    "2022-02-27 15:21:28,498 INFO mapreduce.JobResourceUploader: Disabling Erasure Coding for path: /tmp/hadoop-yarn/staging/hduser/.staging/job_1645724232036_0056\n",
    "2022-02-27 15:21:28,789 INFO input.FileInputFormat: Total input files to process : 196\n",
    "2022-02-27 15:21:28,852 INFO mapreduce.JobSubmitter: number of splits:196\n",
    "2022-02-27 15:21:28,960 INFO mapreduce.JobSubmitter: Submitting tokens for job: job_1645724232036_0056\n",
    "2022-02-27 15:21:28,960 INFO mapreduce.JobSubmitter: Executing with tokens: []\n",
    "2022-02-27 15:21:29,131 INFO conf.Configuration: resource-types.xml not found\n",
    "2022-02-27 15:21:29,131 INFO resource.ResourceUtils: Unable to find 'resource-types.xml'.\n",
    "2022-02-27 15:21:29,209 INFO impl.YarnClientImpl: Submitted application application_1645724232036_0056\n",
    "2022-02-27 15:21:29,256 INFO mapreduce.Job: The url to track the job: http://localhost:8088/proxy/application_1645724232036_0056/\n",
    "2022-02-27 15:26:49,791 INFO client.DefaultNoHARMFailoverProxyProvider: Connecting to ResourceManager at /0.0.0.0:8032\n",
    "2022-02-27 15:26:49,917 WARN mapreduce.JobResourceUploader: Hadoop command-line option parsing not performed. Implement the Tool interface and execute your application with ToolRunner to remedy this.\n",
    "2022-02-27 15:26:49,942 INFO mapreduce.JobResourceUploader: Disabling Erasure Coding for path: /tmp/hadoop-yarn/staging/hduser/.staging/job_1645724232036_0057\n",
    "2022-02-27 15:26:50,088 INFO input.FileInputFormat: Total input files to process : 4\n",
    "2022-02-27 15:26:50,152 INFO mapreduce.JobSubmitter: number of splits:4\n",
    "2022-02-27 15:26:50,337 INFO mapreduce.JobSubmitter: Submitting tokens for job: job_1645724232036_0057\n",
    "2022-02-27 15:26:50,337 INFO mapreduce.JobSubmitter: Executing with tokens: []\n",
    "2022-02-27 15:26:50,426 INFO impl.YarnClientImpl: Submitted application application_1645724232036_0057\n",
    "2022-02-27 15:26:50,447 INFO mapreduce.Job: The url to track the job: http://localhost:8088/proxy/application_1645724232036_0057/\n",
    "2022-02-27 15:29:51,588 INFO LetterFrequency: Success!! Workflow completed [2] jobs\n",
    "+ hdfs dfs -cat myOutput/part-r-00000\n",
    "+ head\n",
    "+ grep fr\n",
    "fr\ta\t007.820\n",
    "fr\tb\t000.974\n",
    "fr\tc\t002.995\n",
    "fr\td\t003.656\n",
    "fr\te\t014.881\n",
    "fr\tf\t001.112\n",
    "fr\tg\t000.957\n",
    "fr\th\t000.923\n",
    "fr\ti\t007.224\n",
    "fr\tj\t000.579\n",
    "+ hdfs dfs -cat myOutput/part-r-00001\n",
    "+ head\n",
    "+ grep de\n",
    "de\ta\t005.421\n",
    "de\tb\t001.961\n",
    "de\tc\t003.244\n",
    "de\td\t005.078\n",
    "de\te\t017.157\n",
    "de\tf\t001.610\n",
    "de\tg\t002.923\n",
    "de\th\t005.263\n",
    "de\ti\t007.854\n",
    "de\tj\t000.246\n",
    "+ hdfs dfs -cat myOutput/part-r-00002\n",
    "+ head\n",
    "+ grep es\n",
    "es\ta\t012.128\n",
    "es\tb\t001.522\n",
    "es\tc\t003.856\n",
    "es\td\t005.147\n",
    "es\te\t012.955\n",
    "es\tf\t000.675\n",
    "es\tg\t001.199\n",
    "es\th\t001.081\n",
    "es\ti\t005.546\n",
    "es\tj\t000.484\n",
    "+ hdfs dfs -cat myOutput/part-r-00003\n",
    "+ head\n",
    "+ grep it\n",
    "it\ta\t011.166\n",
    "it\tb\t001.006\n",
    "it\tc\t004.402\n",
    "it\td\t003.923\n",
    "it\te\t011.427\n",
    "it\tf\t001.106\n",
    "it\tg\t001.956\n",
    "it\th\t001.114\n",
    "it\ti\t010.724\n",
    "it\tj\t000.023\n",
    "\n",
    "real\t8m36.844s\n",
    "user\t0m25.113s\n",
    "sys\t0m2.086s\n"
   ]
  }
 ],
 "metadata": {
  "kernelspec": {
   "display_name": "Python 3 (ipykernel)",
   "language": "python",
   "name": "python3"
  },
  "language_info": {
   "codemirror_mode": {
    "name": "ipython",
    "version": 3
   },
   "file_extension": ".py",
   "mimetype": "text/x-python",
   "name": "python",
   "nbconvert_exporter": "python",
   "pygments_lexer": "ipython3",
   "version": "3.8.10"
  }
 },
 "nbformat": 4,
 "nbformat_minor": 5
}
